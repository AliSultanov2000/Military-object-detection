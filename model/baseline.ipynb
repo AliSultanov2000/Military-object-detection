{
 "cells": [
  {
   "cell_type": "markdown",
   "metadata": {},
   "source": [
    "#### Бейзлайн для задачи детекции объектов"
   ]
  },
  {
   "cell_type": "code",
   "execution_count": 2,
   "metadata": {},
   "outputs": [],
   "source": [
    "import ultralytics\n",
    "import torch\n",
    "import sys\n",
    "import cv2\n",
    "\n",
    "from PIL import Image\n",
    "from ultralytics import YOLO, RTDETR\n",
    "sys.path.append(r\"../\")"
   ]
  },
  {
   "cell_type": "code",
   "execution_count": 3,
   "metadata": {},
   "outputs": [
    {
     "name": "stdout",
     "output_type": "stream",
     "text": [
      "Ultralytics YOLOv8.1.34 🚀 Python-3.11.5 torch-2.3.0+cu118 CUDA:0 (NVIDIA GeForce GTX 1080, 8192MiB)\n",
      "Setup complete ✅ (4 CPUs, 31.9 GB RAM, 440.9/930.9 GB disk)\n"
     ]
    }
   ],
   "source": [
    "ultralytics.checks()"
   ]
  },
  {
   "cell_type": "code",
   "execution_count": 4,
   "metadata": {},
   "outputs": [],
   "source": [
    "# Девайс\n",
    "device = torch.device(\"cuda\" if torch.cuda.is_available() else \"cpu\")\n",
    "\n",
    "# Загрузка модели\n",
    "model_path = r\"\"\n",
    "model = YOLO(model_path).to(device)"
   ]
  },
  {
   "cell_type": "markdown",
   "metadata": {},
   "source": [
    "#### Проход на изображении"
   ]
  },
  {
   "cell_type": "code",
   "execution_count": 10,
   "metadata": {},
   "outputs": [],
   "source": [
    "def image_detection(image_path: str) -> None:\n",
    "    \"\"\"Инференс на изображении\"\"\"\n",
    "                           \n",
    "    results = model(image_path)  # Results list\n",
    "    # Show the results\n",
    "    for result in results:\n",
    "        im_array = result.plot()  # Plot a BGR numpy array of predictions\n",
    "        im = Image.fromarray(im_array[..., ::-1])  # RGB PIL image\n",
    "        im.show()  # Show image\n",
    "\n",
    "\n",
    "# Тест\n",
    "image_detection(r\"\")"
   ]
  },
  {
   "cell_type": "markdown",
   "metadata": {},
   "source": [
    "#### Проход на видео"
   ]
  },
  {
   "cell_type": "code",
   "execution_count": 1,
   "metadata": {},
   "outputs": [],
   "source": [
    "def stream_detection(video_path: str) -> None:\n",
    "    \"\"\"\n",
    "    Инференс на видео для тестирования скорости \n",
    "    работы моделей на задаче детекции\n",
    "    \"\"\"\n",
    "    cap = cv2.VideoCapture(video_path)\n",
    "\n",
    "    while cap.isOpened():\n",
    "        success, frame = cap.read()\n",
    "\n",
    "        if success:\n",
    "            results = model.predict(frame)\n",
    "\n",
    "            annotated_frame = results[0].plot()\n",
    "\n",
    "            cv2.imshow(\"YOLO Inference\", annotated_frame)\n",
    "\n",
    "            if cv2.waitKey(1) & 0xFF == ord(\"q\"):\n",
    "                break\n",
    "        else:\n",
    "            break\n",
    "\n",
    "    cap.release()\n",
    "    cv2.destroyAllWindows()\n",
    "\n",
    "\n",
    "# Тест\n",
    "stream_detection(\"\")"
   ]
  }
 ],
 "metadata": {
  "kernelspec": {
   "display_name": "venv",
   "language": "python",
   "name": "python3"
  },
  "language_info": {
   "codemirror_mode": {
    "name": "ipython",
    "version": 3
   },
   "file_extension": ".py",
   "mimetype": "text/x-python",
   "name": "python",
   "nbconvert_exporter": "python",
   "pygments_lexer": "ipython3",
   "version": "3.11.5"
  }
 },
 "nbformat": 4,
 "nbformat_minor": 2
}
